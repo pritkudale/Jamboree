{
 "cells": [
  {
   "cell_type": "code",
   "execution_count": 1,
   "id": "768b26ea-db1e-42ce-ae1e-27fd2a34180a",
   "metadata": {},
   "outputs": [],
   "source": [
    "import numpy as np"
   ]
  },
  {
   "cell_type": "code",
   "execution_count": 2,
   "id": "469359c9-3cbd-4071-a02e-893e84f4f096",
   "metadata": {},
   "outputs": [],
   "source": [
    "a=np.array([1,0,0,1,1,0,1])"
   ]
  },
  {
   "cell_type": "code",
   "execution_count": 5,
   "id": "9520a4ea-c1da-475b-8053-748f491551f6",
   "metadata": {},
   "outputs": [
    {
     "data": {
      "text/plain": [
       "array([0, 1])"
      ]
     },
     "execution_count": 5,
     "metadata": {},
     "output_type": "execute_result"
    }
   ],
   "source": [
    "np.unique(a)"
   ]
  },
  {
   "cell_type": "code",
   "execution_count": null,
   "id": "e77f159f-eb85-4ae3-995a-c28e25830fd0",
   "metadata": {},
   "outputs": [],
   "source": []
  },
  {
   "cell_type": "code",
   "execution_count": null,
   "id": "18df30a1-0faf-4e65-95d9-62977f572371",
   "metadata": {},
   "outputs": [],
   "source": []
  }
 ],
 "metadata": {
  "kernelspec": {
   "display_name": "Python 3 (ipykernel)",
   "language": "python",
   "name": "python3"
  },
  "language_info": {
   "codemirror_mode": {
    "name": "ipython",
    "version": 3
   },
   "file_extension": ".py",
   "mimetype": "text/x-python",
   "name": "python",
   "nbconvert_exporter": "python",
   "pygments_lexer": "ipython3",
   "version": "3.12.2"
  }
 },
 "nbformat": 4,
 "nbformat_minor": 5
}
